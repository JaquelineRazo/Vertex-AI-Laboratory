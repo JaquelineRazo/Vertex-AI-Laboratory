{
 "cells": [
  {
   "cell_type": "code",
   "execution_count": 1,
   "metadata": {
    "id": "ur8xi4C7S06n",
    "tags": []
   },
   "outputs": [],
   "source": [
    "# Copyright 2024 Google LLC\n",
    "#\n",
    "# Licensed under the Apache License, Version 2.0 (the \"License\");\n",
    "# you may not use this file except in compliance with the License.\n",
    "# You may obtain a copy of the License at\n",
    "#\n",
    "#     https://www.apache.org/licenses/LICENSE-2.0\n",
    "#\n",
    "# Unless required by applicable law or agreed to in writing, software\n",
    "# distributed under the License is distributed on an \"AS IS\" BASIS,\n",
    "# WITHOUT WARRANTIES OR CONDITIONS OF ANY KIND, either express or implied.\n",
    "# See the License for the specific language governing permissions and\n",
    "# limitations under the License."
   ]
  },
  {
   "cell_type": "markdown",
   "metadata": {
    "id": "JAPoU8Sm5E6e",
    "tags": []
   },
   "source": [
    "# Prompt Design - Best Practices\n",
    "\n",
    "<table align=\"left\">\n",
    "  <td style=\"text-align: center\">\n",
    "    <a href=\"https://colab.research.google.com/github/GoogleCloudPlatform/generative-ai/blob/main/gemini/prompts/intro_prompt_design.ipynb\">\n",
    "      <img src=\"https://cloud.google.com/ml-engine/images/colab-logo-32px.png\" alt=\"Google Colaboratory logo\"><br> Open in Colab\n",
    "    </a>\n",
    "  </td>\n",
    "  <td style=\"text-align: center\">\n",
    "    <a href=\"https://console.cloud.google.com/vertex-ai/colab/import/https:%2F%2Fraw.githubusercontent.com%2FGoogleCloudPlatform%2Fgenerative-ai%2Fmain%2Fgemini%2Fprompts%2Fintro_prompt_design.ipynb\">\n",
    "      <img width=\"32px\" src=\"https://lh3.googleusercontent.com/JmcxdQi-qOpctIvWKgPtrzZdJJK-J3sWE1RsfjZNwshCFgE_9fULcNpuXYTilIR2hjwN\" alt=\"Google Cloud Colab Enterprise logo\"><br> Open in Colab Enterprise\n",
    "    </a>\n",
    "  </td>    \n",
    "  <td style=\"text-align: center\">\n",
    "    <a href=\"https://console.cloud.google.com/vertex-ai/workbench/deploy-notebook?download_url=https://raw.githubusercontent.com/GoogleCloudPlatform/generative-ai/main/gemini/prompts/intro_prompt_design.ipynb\">\n",
    "      <img src=\"https://lh3.googleusercontent.com/UiNooY4LUgW_oTvpsNhPpQzsstV5W8F7rYgxgGBD85cWJoLmrOzhVs_ksK_vgx40SHs7jCqkTkCk=e14-rj-sc0xffffff-h130-w32\" alt=\"Vertex AI logo\"><br> Open in Workbench\n",
    "    </a>\n",
    "  </td>\n",
    "  <td style=\"text-align: center\">\n",
    "    <a href=\"https://github.com/GoogleCloudPlatform/generative-ai/blob/main/gemini/prompts/intro_prompt_design.ipynb\">\n",
    "      <img src=\"https://cloud.google.com/ml-engine/images/github-logo-32px.png\" alt=\"GitHub logo\"><br> View on GitHub\n",
    "    </a>\n",
    "  </td>\n",
    "  <td style=\"text-align: center\">\n",
    "    <a href=\"https://goo.gle/4fWHlze\">\n",
    "      <img width=\"32px\" src=\"https://cdn.qwiklabs.com/assets/gcp_cloud-e3a77215f0b8bfa9b3f611c0d2208c7e8708ed31.svg\" alt=\"Google Cloud logo\"><br> Open in  Cloud Skills Boost\n",
    "    </a>\n",
    "  </td>\n",
    "</table>\n",
    "\n",
    "<div style=\"clear: both;\"></div>\n",
    "\n",
    "<b>Share to:</b>\n",
    "\n",
    "<a href=\"https://www.linkedin.com/sharing/share-offsite/?url=https%3A//github.com/GoogleCloudPlatform/generative-ai/blob/main/gemini/prompts/intro_prompt_design.ipynb\" target=\"_blank\">\n",
    "  <img width=\"20px\" src=\"https://upload.wikimedia.org/wikipedia/commons/8/81/LinkedIn_icon.svg\" alt=\"LinkedIn logo\">\n",
    "</a>\n",
    "\n",
    "<a href=\"https://bsky.app/intent/compose?text=https%3A//github.com/GoogleCloudPlatform/generative-ai/blob/main/gemini/prompts/intro_prompt_design.ipynb\" target=\"_blank\">\n",
    "  <img width=\"20px\" src=\"https://upload.wikimedia.org/wikipedia/commons/7/7a/Bluesky_Logo.svg\" alt=\"Bluesky logo\">\n",
    "</a>\n",
    "\n",
    "<a href=\"https://twitter.com/intent/tweet?url=https%3A//github.com/GoogleCloudPlatform/generative-ai/blob/main/gemini/prompts/intro_prompt_design.ipynb\" target=\"_blank\">\n",
    "  <img width=\"20px\" src=\"https://upload.wikimedia.org/wikipedia/commons/5/53/X_logo_2023_original.svg\" alt=\"X logo\">\n",
    "</a>\n",
    "\n",
    "<a href=\"https://reddit.com/submit?url=https%3A//github.com/GoogleCloudPlatform/generative-ai/blob/main/gemini/prompts/intro_prompt_design.ipynb\" target=\"_blank\">\n",
    "  <img width=\"20px\" src=\"https://redditinc.com/hubfs/Reddit%20Inc/Brand/Reddit_Logo.png\" alt=\"Reddit logo\">\n",
    "</a>\n",
    "\n",
    "<a href=\"https://www.facebook.com/sharer/sharer.php?u=https%3A//github.com/GoogleCloudPlatform/generative-ai/blob/main/gemini/prompts/intro_prompt_design.ipynb\" target=\"_blank\">\n",
    "  <img width=\"20px\" src=\"https://upload.wikimedia.org/wikipedia/commons/5/51/Facebook_f_logo_%282019%29.svg\" alt=\"Facebook logo\">\n",
    "</a>            "
   ]
  },
  {
   "cell_type": "markdown",
   "metadata": {
    "id": "84f0f73a0f76"
   },
   "source": [
    "| | |\n",
    "|-|-|\n",
    "|Author(s) | [Polong Lin](https://github.com/polong-lin), [Karl Weinmeister](https://github.com/kweinmeister) |"
   ]
  },
  {
   "cell_type": "markdown",
   "metadata": {
    "id": "tvgnzT1CKxrO"
   },
   "source": [
    "## Overview\n",
    "\n",
    "This notebook covers the essentials of prompt engineering, including some best practices.\n",
    "\n",
    "Learn more about prompt design in the [official documentation](https://cloud.google.com/vertex-ai/docs/generative-ai/text/text-overview).\n",
    "\n",
    "In this notebook, you learn best practices around prompt engineering -- how to design prompts to improve the quality of your responses.\n",
    "\n",
    "This notebook covers the following best practices for prompt engineering:\n",
    "\n",
    "- Be concise\n",
    "- Be specific and well-defined\n",
    "- Ask one task at a time\n",
    "- Turn generative tasks into classification tasks\n",
    "- Improve response quality by including examples"
   ]
  },
  {
   "cell_type": "markdown",
   "metadata": {
    "id": "61RBz8LLbxCR"
   },
   "source": [
    "## Getting Started"
   ]
  },
  {
   "cell_type": "markdown",
   "metadata": {
    "id": "No17Cw5hgx12"
   },
   "source": [
    "### Install Google Gen AI SDK\n"
   ]
  },
  {
   "cell_type": "code",
   "execution_count": 2,
   "metadata": {
    "id": "tFy3H3aPgx12",
    "tags": []
   },
   "outputs": [
    {
     "name": "stdout",
     "output_type": "stream",
     "text": [
      "\n",
      "\u001b[1m[\u001b[0m\u001b[34;49mnotice\u001b[0m\u001b[1;39;49m]\u001b[0m\u001b[39;49m A new release of pip is available: \u001b[0m\u001b[31;49m25.0\u001b[0m\u001b[39;49m -> \u001b[0m\u001b[32;49m25.0.1\u001b[0m\n",
      "\u001b[1m[\u001b[0m\u001b[34;49mnotice\u001b[0m\u001b[1;39;49m]\u001b[0m\u001b[39;49m To update, run: \u001b[0m\u001b[32;49mpip install --upgrade pip\u001b[0m\n",
      "Note: you may need to restart the kernel to use updated packages.\n"
     ]
    }
   ],
   "source": [
    "%pip install --upgrade --quiet google-genai"
   ]
  },
  {
   "cell_type": "code",
   "execution_count": 3,
   "metadata": {
    "tags": []
   },
   "outputs": [
    {
     "name": "stdout",
     "output_type": "stream",
     "text": [
      "Requirement already satisfied: pip in /opt/conda/lib/python3.10/site-packages (25.0)\n",
      "Collecting pip\n",
      "  Downloading pip-25.0.1-py3-none-any.whl.metadata (3.7 kB)\n",
      "Downloading pip-25.0.1-py3-none-any.whl (1.8 MB)\n",
      "\u001b[2K   \u001b[90m━━━━━━━━━━━━━━━━━━━━━━━━━━━━━━━━━━━━━━━━\u001b[0m \u001b[32m1.8/1.8 MB\u001b[0m \u001b[31m32.4 MB/s\u001b[0m eta \u001b[36m0:00:00\u001b[0m\n",
      "\u001b[?25hInstalling collected packages: pip\n",
      "  Attempting uninstall: pip\n",
      "    Found existing installation: pip 25.0\n",
      "    Uninstalling pip-25.0:\n",
      "      Successfully uninstalled pip-25.0\n",
      "Successfully installed pip-25.0.1\n",
      "Note: you may need to restart the kernel to use updated packages.\n"
     ]
    }
   ],
   "source": [
    "pip install --upgrade pip"
   ]
  },
  {
   "cell_type": "markdown",
   "metadata": {
    "id": "R5Xep4W9lq-Z",
    "tags": []
   },
   "source": [
    "### Restart runtime\n",
    "\n",
    "To use the newly installed packages in this Jupyter runtime, you must restart the runtime. You can do this by running the cell below, which will restart the current kernel."
   ]
  },
  {
   "cell_type": "code",
   "execution_count": 4,
   "metadata": {
    "id": "XRvKdaPDTznN",
    "tags": []
   },
   "outputs": [
    {
     "data": {
      "text/plain": [
       "{'status': 'ok', 'restart': True}"
      ]
     },
     "execution_count": 4,
     "metadata": {},
     "output_type": "execute_result"
    }
   ],
   "source": [
    "import IPython\n",
    "\n",
    "app = IPython.Application.instance()\n",
    "app.kernel.do_shutdown(True)"
   ]
  },
  {
   "cell_type": "markdown",
   "metadata": {
    "id": "SbmM4z7FOBpM"
   },
   "source": [
    "<div class=\"alert alert-block alert-warning\">\n",
    "<b>⚠️ The kernel is going to restart. Please wait until it is finished before continuing to the next step. ⚠️</b>\n",
    "</div>\n"
   ]
  },
  {
   "cell_type": "markdown",
   "metadata": {
    "id": "dmWOrTJ3gx13"
   },
   "source": [
    "### Authenticate your notebook environment (Colab only)\n",
    "\n",
    "Authenticate your environment on Google Colab.\n"
   ]
  },
  {
   "cell_type": "code",
   "execution_count": 1,
   "metadata": {
    "id": "NyKGtVQjgx13",
    "tags": []
   },
   "outputs": [],
   "source": [
    "import sys\n",
    "\n",
    "if \"google.colab\" in sys.modules:\n",
    "    from google.colab import auth\n",
    "\n",
    "    auth.authenticate_user()"
   ]
  },
  {
   "cell_type": "markdown",
   "metadata": {
    "id": "06489bd14f16"
   },
   "source": [
    "### Import libraries\n"
   ]
  },
  {
   "cell_type": "code",
   "execution_count": 2,
   "metadata": {
    "id": "154137022fb6",
    "tags": []
   },
   "outputs": [],
   "source": [
    "from IPython.display import Markdown, display\n",
    "from google import genai\n",
    "from google.genai.types import GenerateContentConfig"
   ]
  },
  {
   "cell_type": "markdown",
   "metadata": {
    "id": "DF4l8DTdWgPY"
   },
   "source": [
    "### Set Google Cloud project information and create client\n",
    "\n",
    "To get started using Vertex AI, you must have an existing Google Cloud project and [enable the Vertex AI API](https://console.cloud.google.com/flows/enableapi?apiid=aiplatform.googleapis.com).\n",
    "\n",
    "Learn more about [setting up a project and a development environment](https://cloud.google.com/vertex-ai/docs/start/cloud-environment)."
   ]
  },
  {
   "cell_type": "code",
   "execution_count": 3,
   "metadata": {
    "id": "Nqwi-5ufWp_B",
    "tags": []
   },
   "outputs": [],
   "source": [
    "import os\n",
    "\n",
    "PROJECT_ID = \"qwiklabs-gcp-04-075b51757159\"  # @param {type: \"string\", placeholder: \"[your-project-id]\", isTemplate: true}\n",
    "if not PROJECT_ID or PROJECT_ID == \"qwiklabs-gcp-04-075b51757159\":\n",
    "    PROJECT_ID = str(os.environ.get(\"GOOGLE_CLOUD_PROJECT\"))\n",
    "\n",
    "LOCATION = os.environ.get(\"GOOGLE_CLOUD_REGION\", \"europe-west1\")"
   ]
  },
  {
   "cell_type": "code",
   "execution_count": 4,
   "metadata": {
    "id": "QqRWdPGmW3NJ",
    "tags": []
   },
   "outputs": [],
   "source": [
    "client = genai.Client(vertexai=True, project=PROJECT_ID, location=LOCATION)"
   ]
  },
  {
   "cell_type": "markdown",
   "metadata": {
    "id": "OnFPpCRtXRl4"
   },
   "source": [
    "### Load model\n",
    "\n",
    "Learn more about all [Gemini models on Vertex AI](https://cloud.google.com/vertex-ai/generative-ai/docs/learn/models#gemini-models)."
   ]
  },
  {
   "cell_type": "code",
   "execution_count": 5,
   "metadata": {
    "id": "IQYu_9SvXQah",
    "tags": []
   },
   "outputs": [],
   "source": [
    "MODEL_ID = \"gemini-2.0-flash-001\"  # @param {type: \"string\"}"
   ]
  },
  {
   "cell_type": "markdown",
   "metadata": {
    "id": "cVOtUNJ5X0PY"
   },
   "source": [
    "## Prompt engineering best practices"
   ]
  },
  {
   "cell_type": "markdown",
   "metadata": {
    "id": "uv_e0fEPX60q"
   },
   "source": [
    "Prompt engineering is all about how to design your prompts so that the response is what you were indeed hoping to see.\n",
    "\n",
    "The idea of using \"unfancy\" prompts is to minimize the noise in your prompt to reduce the possibility of the LLM misinterpreting the intent of the prompt. Below are a few guidelines on how to engineer \"unfancy\" prompts.\n",
    "\n",
    "In this section, you'll cover the following best practices when engineering prompts:\n",
    "\n",
    "* Be concise\n",
    "* Be specific, and well-defined\n",
    "* Ask one task at a time\n",
    "* Improve response quality by including examples\n",
    "* Turn generative tasks to classification tasks to improve safety"
   ]
  },
  {
   "cell_type": "markdown",
   "metadata": {
    "id": "0pY4XX0OX9_Y"
   },
   "source": [
    "### Be concise"
   ]
  },
  {
   "cell_type": "markdown",
   "metadata": {
    "id": "xlRpxyxGYA1K"
   },
   "source": [
    "🛑 Not recommended. The prompt below is unnecessarily verbose."
   ]
  },
  {
   "cell_type": "code",
   "execution_count": 6,
   "metadata": {
    "id": "YKV4G-CfXdbi",
    "tags": []
   },
   "outputs": [
    {
     "data": {
      "text/markdown": [
       "Okay, here are some name ideas for a dried flower shop, playing on different aspects like longevity, nature, artistry, and uniqueness:\n",
       "\n",
       "**Emphasizing Longevity & Preservation:**\n",
       "\n",
       "*   **The Everbloom:** Classic and evocative.\n",
       "*   **Lasting Petals:** Simple and descriptive.\n",
       "*   **The Preserved Petal:** Similar to above, slightly more formal.\n",
       "*   **Eternal Blooms:** Emphasizes the lasting nature of the product.\n",
       "*   **Timeless Florals:** Elegant and sophisticated.\n",
       "*   **Dried & Divine:** A catchy and memorable name.\n",
       "\n",
       "**Highlighting Nature & Earthiness:**\n",
       "\n",
       "*   **The Still Meadow:** Evokes a peaceful, natural scene.\n",
       "*   **Sunbaked Blooms:** Suggests a natural drying process.\n",
       "*   **Earthbound Florals:** Connects the flowers to their origins.\n",
       "*   **Rustic Petals:** If the shop has a rustic aesthetic.\n",
       "*   **The Golden Harvest Florist:** Implies richness and bounty.\n",
       "*   **Wither & Bloom:** A poetic name that highlights the natural process.\n",
       "\n",
       "**Focusing on Artistry & Craftsmanship:**\n",
       "\n",
       "*   **The Dried Canvas:** Suggests the bouquets are works of art.\n",
       "*   **Floral Alchemy:** Implies a transformation and artistry.\n",
       "*   **Petal & Thread:** Hints at the process of creating the arrangements.\n",
       "*   **The Botanical Atelier:** A more sophisticated and artistic feel.\n",
       "*   **Dried Design:** Clean, modern, and emphasizes the design aspect.\n",
       "*   **The Floral Curator:** Implies a careful selection and artistry.\n",
       "\n",
       "**Unique & Playful Names:**\n",
       "\n",
       "*   **The Dry Spell:** A bit cheeky and memorable.\n",
       "*   **Petrified Petals:** Playful and slightly unusual.\n",
       "*   **The Upcycled Bloom:** If the shop focuses on sustainability.\n",
       "*   **Second Bloom:** Acknowledges the flower's second life.\n",
       "*   **The Dusty Rose:** A romantic and slightly vintage feel.\n",
       "*   **Bloom Again:** Positive and suggestive of long-lasting beauty.\n",
       "\n",
       "**Tips for Choosing the Best Name:**\n",
       "\n",
       "*   **Consider your target audience:** Are you aiming for a high-end clientele or a more casual customer?\n",
       "*   **Think about your brand aesthetic:** Does your shop have a rustic, modern, or bohemian vibe?\n",
       "*   **Check for availability:** Make sure the name isn't already in use and that you can secure a website domain and social media handles.\n",
       "*   **Say it out loud:** Does the name sound good and is it easy to remember?\n",
       "*   **Get feedback:** Ask friends, family, or potential customers for their opinions.\n",
       "\n",
       "Ultimately, the best name will be one that resonates with you and accurately reflects the unique character of your flower shop. Good luck!\n"
      ],
      "text/plain": [
       "<IPython.core.display.Markdown object>"
      ]
     },
     "metadata": {},
     "output_type": "display_data"
    }
   ],
   "source": [
    "prompt = \"What do you think could be a good name for a flower shop that specializes in selling bouquets of dried flowers more than fresh flowers?\"\n",
    "\n",
    "response = client.models.generate_content(model=MODEL_ID, contents=prompt)\n",
    "display(Markdown(response.text))"
   ]
  },
  {
   "cell_type": "markdown",
   "metadata": {
    "id": "YrJexRHJYnmC"
   },
   "source": [
    "✅ Recommended. The prompt below is to the point and concise."
   ]
  },
  {
   "cell_type": "code",
   "execution_count": 7,
   "metadata": {
    "id": "VHetn9lCYrXB",
    "tags": []
   },
   "outputs": [
    {
     "data": {
      "text/markdown": [
       "Okay, here are some name suggestions for a dried flower shop, playing with different styles and vibes:\n",
       "\n",
       "**Elegant & Classic:**\n",
       "\n",
       "*   The Everbloom Studio\n",
       "*   Preserved Petals\n",
       "*   Lasting Blooms\n",
       "*   The Dried Bouquet\n",
       "*   Golden Flora\n",
       "*   The Conservatory of Dried Flowers\n",
       "*   Timeless Stems\n",
       "*   Fleurs Éternelles (French for \"Eternal Flowers\")\n",
       "\n",
       "**Modern & Chic:**\n",
       "\n",
       "*   Still Life Stems\n",
       "*   The Dry Bar (playful)\n",
       "*   Dried & Dusted\n",
       "*   Bloom & Bone\n",
       "*   The Pressed Flower Co.\n",
       "*   Anthology\n",
       "*   Paper Petals\n",
       "*   Relic Blooms\n",
       "\n",
       "**Rustic & Natural:**\n",
       "\n",
       "*   The Wildflower Keepsake\n",
       "*   Prairie & Preserved\n",
       "*   Gathered & Dried\n",
       "*   The Dusty Rose\n",
       "*   Everlasting Fields\n",
       "*   Root & Bloom (even though dried, suggests the origin)\n",
       "*   The Seedling Stays\n",
       "\n",
       "**Creative & Unique:**\n",
       "\n",
       "*   The Floral Alchemist\n",
       "*   Petrified Petals\n",
       "*   The Bloomsmith\n",
       "*   The Herbarium\n",
       "*   Second Bloom\n",
       "*   The Flower Library\n",
       "*   The Floral Time Capsule\n",
       "\n",
       "**Tips for Choosing:**\n",
       "\n",
       "*   **Consider your target audience:**  Are you aiming for a high-end clientele or a more casual, bohemian crowd?\n",
       "*   **Check for availability:**  Make sure the name isn't already in use in your area (or online) and that you can secure a website domain and social media handles.\n",
       "*   **Say it out loud:**  Does it sound good? Is it easy to remember and pronounce?\n",
       "*   **Get feedback:**  Ask friends, family, or potential customers what they think of your top choices.\n",
       "\n",
       "Good luck! Let me know if you'd like more suggestions based on a specific style or vibe you're going for.\n"
      ],
      "text/plain": [
       "<IPython.core.display.Markdown object>"
      ]
     },
     "metadata": {},
     "output_type": "display_data"
    }
   ],
   "source": [
    "prompt = \"Suggest a name for a flower shop that sells bouquets of dried flowers\"\n",
    "\n",
    "response = client.models.generate_content(model=MODEL_ID, contents=prompt)\n",
    "display(Markdown(response.text))"
   ]
  },
  {
   "cell_type": "markdown",
   "metadata": {
    "id": "eXTAvdOHY0OC"
   },
   "source": [
    "### Be specific, and well-defined"
   ]
  },
  {
   "cell_type": "markdown",
   "metadata": {
    "id": "FTH4GEIgY1dp"
   },
   "source": [
    "Suppose that you want to brainstorm creative ways to describe Earth."
   ]
  },
  {
   "cell_type": "markdown",
   "metadata": {
    "id": "o5BmXBiGY4KC"
   },
   "source": [
    "🛑 The prompt below might be a bit too generic (which is certainly OK if you'd like to ask a generic question!)"
   ]
  },
  {
   "cell_type": "code",
   "execution_count": 8,
   "metadata": {
    "id": "eHBaMvv7Y6mR",
    "tags": []
   },
   "outputs": [
    {
     "data": {
      "text/markdown": [
       "Okay, let's dive into the wonderful planet we call Earth! Here's a breakdown of some key aspects:\n",
       "\n",
       "**Basic Facts:**\n",
       "\n",
       "*   **Name:** Earth (The name comes from the Old English words 'eorþe' and 'erda', which mean 'ground' or 'soil')\n",
       "*   **Type:** Terrestrial planet (rocky surface)\n",
       "*   **Age:** Approximately 4.54 billion years\n",
       "*   **Diameter:** Approximately 12,742 kilometers (7,918 miles)\n",
       "*   **Circumference:** Approximately 40,075 kilometers (24,901 miles) at the equator\n",
       "*   **Distance from Sun:** Approximately 149.6 million kilometers (93 million miles) - 1 Astronomical Unit (AU)\n",
       "*   **Orbit:** Elliptical around the Sun\n",
       "*   **Rotation:** Approximately 24 hours (defining our day)\n",
       "*   **Revolution (Orbit):** Approximately 365.25 days (defining our year)\n",
       "*   **Tilt:** 23.5 degrees (this tilt is responsible for our seasons)\n",
       "*   **Moon(s):** One large moon, simply called \"the Moon\"\n",
       "\n",
       "**Key Features and Composition:**\n",
       "\n",
       "*   **Atmosphere:** A mixture of gases, primarily nitrogen (about 78%) and oxygen (about 21%), with small amounts of argon, carbon dioxide, and other gases. This atmosphere protects us from harmful radiation and regulates temperature.\n",
       "*   **Surface:** About 71% of the Earth's surface is covered by water (oceans, seas, lakes, rivers, ice). The remaining 29% is land, consisting of continents and islands.\n",
       "*   **Internal Structure:** Earth has a layered structure:\n",
       "    *   **Crust:** The outermost layer, a thin, solid layer of rock. It's divided into continental crust (thicker, less dense) and oceanic crust (thinner, more dense).\n",
       "    *   **Mantle:** A thick, mostly solid layer beneath the crust. It's made of silicate rocks rich in iron and magnesium.  The uppermost part of the mantle and the crust together form the lithosphere. Below the lithosphere is the asthenosphere, a more plastic layer that allows the lithospheric plates to move.\n",
       "    *   **Outer Core:** A liquid layer of iron and nickel. Its movement generates Earth's magnetic field.\n",
       "    *   **Inner Core:** A solid sphere of iron and nickel. It's under immense pressure, which keeps it solid despite the extreme temperature.\n",
       "*   **Magnetic Field:** Generated by the movement of molten iron in the outer core. This field protects Earth from harmful solar wind and cosmic radiation.\n",
       "*   **Plate Tectonics:** The Earth's lithosphere is divided into several large and small plates that move slowly over the asthenosphere. These movements cause earthquakes, volcanic eruptions, and the formation of mountains.\n",
       "*   **Water:** Water exists in all three states (solid, liquid, and gas) and is essential for life. It plays a crucial role in regulating Earth's climate, shaping the landscape, and supporting ecosystems.\n",
       "\n",
       "**Life and Environment:**\n",
       "\n",
       "*   **Biosphere:** The part of Earth where life exists. It includes all living organisms and their interactions with the environment.\n",
       "*   **Biodiversity:** Earth is home to an incredible diversity of life, from microscopic organisms to giant whales.\n",
       "*   **Ecosystems:** Complex communities of living organisms interacting with each other and their environment. Examples include forests, grasslands, deserts, and oceans.\n",
       "*   **Climate:** The long-term weather patterns in a region. Earth has a complex climate system that is influenced by factors such as solar radiation, atmospheric composition, and ocean currents.\n",
       "*   **Environmental Concerns:** Human activities are having a significant impact on Earth's environment, including climate change, pollution, deforestation, and loss of biodiversity.\n",
       "\n",
       "**Why is Earth Special?**\n",
       "\n",
       "*   **Liquid Water:** Earth is the only known planet in our solar system with stable liquid water on its surface. This is crucial for life as we know it.\n",
       "*   **Habitable Zone:** Earth is located within the Sun's habitable zone, meaning it's at the right distance for temperatures to be suitable for liquid water.\n",
       "*   **Protective Atmosphere:** Earth's atmosphere shields us from harmful radiation and provides the air we breathe.\n",
       "*   **Magnetic Field:** The magnetic field protects us from solar wind, which could strip away our atmosphere.\n",
       "*   **Plate Tectonics:** Plate tectonics helps regulate Earth's temperature and carbon cycle.\n",
       "\n",
       "**In short, Earth is a unique and dynamic planet with a complex system of interacting components that support life. It's a fragile and precious place that we need to protect for future generations.**\n",
       "\n",
       "Do you have any specific questions about Earth that you'd like me to answer? For example, are you interested in:\n",
       "\n",
       "*   Climate change?\n",
       "*   The history of life on Earth?\n",
       "*   Specific geological features?\n",
       "*   The future of Earth?\n",
       "*   Comparisons to other planets?\n"
      ],
      "text/plain": [
       "<IPython.core.display.Markdown object>"
      ]
     },
     "metadata": {},
     "output_type": "display_data"
    }
   ],
   "source": [
    "prompt = \"Tell me about Earth\"\n",
    "\n",
    "response = client.models.generate_content(model=MODEL_ID, contents=prompt)\n",
    "display(Markdown(response.text))"
   ]
  },
  {
   "cell_type": "markdown",
   "metadata": {
    "id": "4iyvEbteZnFL"
   },
   "source": [
    "✅ Recommended. The prompt below is specific and well-defined."
   ]
  },
  {
   "cell_type": "code",
   "execution_count": 9,
   "metadata": {
    "id": "JQ80z8urZnne",
    "tags": []
   },
   "outputs": [
    {
     "data": {
      "text/markdown": [
       "Earth possesses a unique combination of features that sets it apart from other known planets. Here's a list highlighting those aspects:\n",
       "\n",
       "**Essential for Life:**\n",
       "\n",
       "*   **Liquid Water on the Surface:**  A substantial amount of liquid water exists freely on the surface, covering approximately 71% of the planet. Water is essential for all known life forms.\n",
       "*   **Oxygen-Rich Atmosphere:**  Earth's atmosphere is rich in free oxygen (approximately 21%), a byproduct of photosynthesis by plants and algae. This supports the respiration of complex life forms.\n",
       "*   **Stable Temperature Range:**  Earth's distance from the sun and its atmosphere create a relatively stable temperature range, conducive to liquid water and life as we know it.\n",
       "*   **Ozone Layer:** The ozone layer in the stratosphere absorbs harmful ultraviolet (UV) radiation from the sun, protecting life on the surface.\n",
       "*   **Presence of Life:** Earth is currently the only known planet to harbor life. This is the most significant difference. It boasts a complex biosphere with diverse ecosystems and organisms.\n",
       "\n",
       "**Geological and Physical Characteristics:**\n",
       "\n",
       "*   **Plate Tectonics:**  Earth is the only planet in our solar system with active plate tectonics. This process recycles the crust, drives volcanism and earthquakes, and influences climate.\n",
       "*   **Strong Magnetic Field:**  Earth has a strong magnetic field generated by the movement of molten iron in its outer core. This field deflects harmful solar wind and cosmic radiation, protecting the atmosphere and life.\n",
       "*   **Single Large Moon:** Earth has a relatively large moon, which stabilizes the Earth's axial tilt, influencing seasons and tides.\n",
       "*   **Geological Diversity:** Earth has a wide range of geological features, including mountains, volcanoes, oceans, canyons, and deserts, created by various geological processes.\n",
       "\n",
       "**Atmospheric Features:**\n",
       "\n",
       "*   **Complex Weather Patterns:**  Earth has complex and dynamic weather patterns driven by solar energy, atmospheric circulation, and the presence of oceans.\n",
       "*   **Atmospheric Layers:** Earth's atmosphere is divided into distinct layers (troposphere, stratosphere, mesosphere, thermosphere, exosphere), each with unique properties and roles.\n",
       "\n",
       "**Other Unique Aspects:**\n",
       "\n",
       "*   **Abundant Organic Compounds:** The existence of life on Earth has led to a vast array of organic compounds being found in its soil, water, and atmosphere.\n",
       "\n",
       "It's important to remember that our understanding of exoplanets (planets outside our solar system) is constantly evolving. As we discover and study more exoplanets, we may find other planets with some of these characteristics, or even discover completely new and unexpected features that challenge our understanding of planetary habitability.\n",
       "\n"
      ],
      "text/plain": [
       "<IPython.core.display.Markdown object>"
      ]
     },
     "metadata": {},
     "output_type": "display_data"
    }
   ],
   "source": [
    "prompt = \"Generate a list of ways that makes Earth unique compared to other planets\"\n",
    "\n",
    "response = client.models.generate_content(model=MODEL_ID, contents=prompt)\n",
    "display(Markdown(response.text))"
   ]
  },
  {
   "cell_type": "markdown",
   "metadata": {
    "id": "R5kmfZYHZsJ7"
   },
   "source": [
    "### Ask one task at a time"
   ]
  },
  {
   "cell_type": "markdown",
   "metadata": {
    "id": "rsAezxeYZuUN"
   },
   "source": [
    "🛑 Not recommended. The prompt below has two parts to the question that could be asked separately."
   ]
  },
  {
   "cell_type": "code",
   "execution_count": 10,
   "metadata": {
    "id": "ElywPXpuZtWf",
    "tags": []
   },
   "outputs": [
    {
     "data": {
      "text/markdown": [
       "Okay, let's tackle both questions:\n",
       "\n",
       "**Best Method of Boiling Water:**\n",
       "\n",
       "There isn't a single \"best\" method, as it depends on your priorities (speed, energy efficiency, safety, volume, etc.). However, here's a breakdown of common methods and their pros and cons:\n",
       "\n",
       "*   **Electric Kettle:**\n",
       "    *   **Pros:** Fastest for small to medium volumes, energy-efficient (most heat goes into the water), convenient, often has auto shut-off for safety.\n",
       "    *   **Cons:** Limited to the kettle's capacity, requires electricity.\n",
       "\n",
       "*   **Stovetop Kettle:**\n",
       "    *   **Pros:** Can boil larger volumes than an electric kettle, no electricity needed if you have a gas stove.\n",
       "    *   **Cons:** Slower than an electric kettle, less energy-efficient (more heat escapes), can be a burn hazard if you forget it and it boils dry.\n",
       "\n",
       "*   **Microwave:**\n",
       "    *   **Pros:** Quick for small amounts, convenient.\n",
       "    *   **Cons:** Can be uneven heating (leading to superheating, a safety risk where the water gets hotter than boiling point but doesn't boil, and then erupts when disturbed), not very energy-efficient, not suitable for large volumes.  Some experts also warn about potential leaching of chemicals from plastic containers into the water when heated.\n",
       "\n",
       "*   **Pot on Stovetop:**\n",
       "    *   **Pros:** Can boil large volumes, versatile (you already have pots).\n",
       "    *   **Cons:** Slowest method, least energy-efficient (most heat escapes), requires monitoring to prevent boiling dry.\n",
       "\n",
       "**In summary:**\n",
       "\n",
       "*   **For speed and efficiency (small to medium volumes):** Electric Kettle\n",
       "*   **For large volumes:** Stovetop Kettle or Pot on Stovetop\n",
       "*   **For absolute minimal effort (small amounts):** Microwave (with caution)\n",
       "\n",
       "Ultimately, the \"best\" method comes down to what's most convenient and practical for your specific situation.\n",
       "\n",
       "**Why is the Sky Blue?**\n",
       "\n",
       "The sky is blue due to a phenomenon called **Rayleigh scattering.** Here's the breakdown:\n",
       "\n",
       "1.  **Sunlight and its Colors:** Sunlight is made up of all the colors of the rainbow.\n",
       "\n",
       "2.  **Entering the Atmosphere:** When sunlight enters the Earth's atmosphere, it collides with tiny air molecules (mostly nitrogen and oxygen).\n",
       "\n",
       "3.  **Scattering of Light:** These collisions cause the sunlight to scatter in different directions.\n",
       "\n",
       "4.  **Rayleigh Scattering Favors Blue:** Rayleigh scattering is more effective at scattering shorter wavelengths of light. Blue and violet light have shorter wavelengths compared to other colors like red and orange.\n",
       "\n",
       "5.  **Why Not Violet?** Although violet light is scattered even *more* than blue, there are a few reasons why we see a blue sky:\n",
       "\n",
       "    *   The sun emits less violet light than blue light.\n",
       "    *   Our eyes are more sensitive to blue than violet.\n",
       "    *   Some violet light is absorbed by the upper atmosphere.\n",
       "\n",
       "6.  **Result:** Because blue light is scattered more effectively, it's scattered all over the sky, making the sky appear blue to our eyes.\n",
       "\n",
       "**In short:** The sky is blue because air molecules scatter blue light from the sun more than they scatter other colors.\n",
       "\n",
       "I hope this is helpful!\n"
      ],
      "text/plain": [
       "<IPython.core.display.Markdown object>"
      ]
     },
     "metadata": {},
     "output_type": "display_data"
    }
   ],
   "source": [
    "prompt = \"What's the best method of boiling water and why is the sky blue?\"\n",
    "\n",
    "response = client.models.generate_content(model=MODEL_ID, contents=prompt)\n",
    "display(Markdown(response.text))"
   ]
  },
  {
   "cell_type": "markdown",
   "metadata": {
    "id": "ejzahazBZ8vk"
   },
   "source": [
    "✅ Recommended. The prompts below asks one task a time."
   ]
  },
  {
   "cell_type": "code",
   "execution_count": 11,
   "metadata": {
    "id": "C5ckp2F0Z_Ba",
    "tags": []
   },
   "outputs": [
    {
     "data": {
      "text/markdown": [
       "The \"best\" method for boiling water depends on your specific needs and resources. Here's a breakdown of common methods and their pros and cons:\n",
       "\n",
       "**1. Electric Kettle:**\n",
       "\n",
       "*   **Pros:**\n",
       "    *   **Fast:** Generally the quickest method for small to medium amounts of water.\n",
       "    *   **Convenient:** Easy to use, often with auto shut-off.\n",
       "    *   **Energy Efficient:** Relatively efficient for boiling smaller quantities since they are designed to heat only the water inside and often have insulated walls to retain heat.\n",
       "    *   **Precise temperature settings:** Some kettles offer temperature control, ideal for specific teas or coffee.\n",
       "    *   **Safe:** Auto shut-off prevents boiling dry.\n",
       "*   **Cons:**\n",
       "    *   **Requires electricity:** Useless without power.\n",
       "    *   **Limited capacity:** Usually only boils a few cups at a time.\n",
       "\n",
       "**2. Stovetop Kettle:**\n",
       "\n",
       "*   **Pros:**\n",
       "    *   **Versatile:** Works on gas, electric, or induction stoves.\n",
       "    *   **No electricity needed (gas stove):** Can be used during power outages (if you have a gas stove).\n",
       "    *   **Large capacity:** Kettles come in various sizes.\n",
       "*   **Cons:**\n",
       "    *   **Slower than electric kettle:** Takes longer to boil, especially on electric stoves.\n",
       "    *   **Requires supervision:** You need to monitor it to prevent boiling dry.\n",
       "    *   **Less energy efficient than electric kettle:** More heat is lost to the environment.\n",
       "    *   **Can be noisy:** Some kettles whistle loudly when boiling.\n",
       "\n",
       "**3. Microwave:**\n",
       "\n",
       "*   **Pros:**\n",
       "    *   **Fast (small amounts):** Can be quicker than the stovetop for a single cup.\n",
       "    *   **Convenient:** Easy to use.\n",
       "*   **Cons:**\n",
       "    *   **Uneven heating:** Water can superheat (become hotter than its boiling point without bubbling) and explode when disturbed, which is dangerous. Use a microwave-safe container and add a wooden stirrer or chopstick to the water to help prevent this.\n",
       "    *   **Not energy efficient:** Inefficient for larger amounts of water.\n",
       "    *   **Can affect taste:** Some people find microwaved water tastes different.\n",
       "    *   **Not recommended:** Because of the risk of superheating and inconsistent heating, this isn't generally recommended.\n",
       "\n",
       "**4. Stovetop Pot (Without a Kettle):**\n",
       "\n",
       "*   **Pros:**\n",
       "    *   **Accessible:** Everyone has a pot.\n",
       "    *   **Versatile:** Works on any stovetop.\n",
       "    *   **Large capacity:** Use any size pot.\n",
       "    *   **No electricity needed (gas stove):** Can be used during power outages.\n",
       "*   **Cons:**\n",
       "    *   **Slowest:** The slowest method of all.\n",
       "    *   **Requires supervision:** Must be monitored to prevent boiling dry.\n",
       "    *   **Least energy efficient:** The most heat is lost to the environment.\n",
       "\n",
       "**5. Camp Stove (Outdoors):**\n",
       "\n",
       "*   **Pros:**\n",
       "    *   **Portable:** Ideal for camping and backpacking.\n",
       "    *   **Versatile:** Can use various fuels (propane, butane, etc.).\n",
       "*   **Cons:**\n",
       "    *   **Requires fuel:** Needs a fuel source to operate.\n",
       "    *   **Can be slow:** Boiling time depends on the stove and fuel.\n",
       "    *   **Weather dependent:** Wind can affect efficiency.\n",
       "\n",
       "**6. Solar Cooker (Outdoors):**\n",
       "\n",
       "*   **Pros:**\n",
       "    *   **Sustainable:** Uses solar energy.\n",
       "    *   **No fuel needed:** Environmentally friendly.\n",
       "*   **Cons:**\n",
       "    *   **Slowest:** Can take a long time to boil water.\n",
       "    *   **Weather dependent:** Requires direct sunlight.\n",
       "    *   **Bulky:** Not always easily portable.\n",
       "\n",
       "**Summary Table:**\n",
       "\n",
       "| Method             | Speed    | Convenience | Energy Efficiency | Safety        | Notes                                                                         |\n",
       "| ------------------- | -------- | ------------ | ---------------- | ------------- | ----------------------------------------------------------------------------- |\n",
       "| Electric Kettle     | Fastest  | High         | High             | High          | Best overall for everyday use if you have access to electricity.             |\n",
       "| Stovetop Kettle    | Medium   | Medium       | Medium           | Medium        | Good if you don't want to rely on electricity or need a larger capacity.      |\n",
       "| Microwave          | Fast (small) | High        | Low              | Low           | Not recommended due to superheating risk.                                     |\n",
       "| Stovetop Pot       | Slowest  | Low          | Lowest           | Medium        | Use only if other options are unavailable.                                  |\n",
       "| Camp Stove          | Variable | Medium       | Variable         | Medium        | Ideal for camping, requires fuel.                                           |\n",
       "| Solar Cooker       | Very Slow | Low          | Highest           | High          | Best for sustainability but slow and weather-dependent.                        |\n",
       "\n",
       "**In Conclusion:**\n",
       "\n",
       "*   **For most people, an electric kettle is the best choice for boiling water in terms of speed, convenience, and energy efficiency.**\n",
       "*   **If you don't have access to electricity, a stovetop kettle is a good alternative.**\n",
       "*   **Avoid using a microwave if possible due to safety concerns.**\n",
       "*   **Consider a camp stove or solar cooker for outdoor use.**\n",
       "\n",
       "Ultimately, the best method depends on your specific situation and priorities.\n"
      ],
      "text/plain": [
       "<IPython.core.display.Markdown object>"
      ]
     },
     "metadata": {},
     "output_type": "display_data"
    }
   ],
   "source": [
    "prompt = \"What's the best method of boiling water?\"\n",
    "\n",
    "response = client.models.generate_content(model=MODEL_ID, contents=prompt)\n",
    "display(Markdown(response.text))"
   ]
  },
  {
   "cell_type": "code",
   "execution_count": 12,
   "metadata": {
    "id": "KwUzhud4aA89",
    "tags": []
   },
   "outputs": [
    {
     "data": {
      "text/markdown": [
       "The sky is blue because of a phenomenon called **Rayleigh scattering**. Here's a breakdown:\n",
       "\n",
       "*   **Sunlight:** Sunlight is actually white light, which is made up of all the colors of the rainbow (red, orange, yellow, green, blue, indigo, and violet).\n",
       "\n",
       "*   **Entering the Atmosphere:** As sunlight enters the Earth's atmosphere, it collides with tiny air molecules (mostly nitrogen and oxygen).\n",
       "\n",
       "*   **Scattering:** This collision causes the sunlight to scatter in different directions.\n",
       "\n",
       "*   **Rayleigh Scattering and Wavelength:** Rayleigh scattering is more effective at scattering shorter wavelengths of light (blue and violet) than longer wavelengths (red and orange). The amount of scattering is inversely proportional to the fourth power of the wavelength. This means that blue light is scattered about 10 times more than red light.\n",
       "\n",
       "*   **Why Blue, not Violet?** Violet light is scattered even *more* than blue light. However, several factors make the sky appear blue rather than violet:\n",
       "\n",
       "    *   **Sun's Output:** The sun emits less violet light than blue light.\n",
       "    *   **Atmospheric Absorption:** The upper atmosphere absorbs a portion of the violet light.\n",
       "    *   **Human Eye Sensitivity:** Our eyes are more sensitive to blue light than violet light.\n",
       "\n",
       "**In summary:** Blue light is scattered more by the Earth's atmosphere than other colors, making the sky appear blue when we look up.\n",
       "\n",
       "**Why are sunsets red/orange?**\n",
       "\n",
       "When the sun is low on the horizon (during sunrise or sunset), the sunlight has to travel through a much greater distance of atmosphere to reach our eyes. This means that most of the blue light has been scattered away by the time the light reaches us. The remaining light is composed mostly of the longer wavelengths, like red and orange, which are less easily scattered, giving the sky its reddish/orange appearance.\n"
      ],
      "text/plain": [
       "<IPython.core.display.Markdown object>"
      ]
     },
     "metadata": {},
     "output_type": "display_data"
    }
   ],
   "source": [
    "prompt = \"Why is the sky blue?\"\n",
    "\n",
    "response = client.models.generate_content(model=MODEL_ID, contents=prompt)\n",
    "display(Markdown(response.text))"
   ]
  },
  {
   "cell_type": "markdown",
   "metadata": {
    "id": "PJIL2RTQaGcT"
   },
   "source": [
    "### Watch out for hallucinations"
   ]
  },
  {
   "cell_type": "markdown",
   "metadata": {
    "id": "8Y8kYxrSaHE9"
   },
   "source": [
    "Although LLMs have been trained on a large amount of data, they can generate text containing statements not grounded in truth or reality; these responses from the LLM are often referred to as \"hallucinations\" due to their limited memorization capabilities. Note that simply prompting the LLM to provide a citation isn't a fix to this problem, as there are instances of LLMs providing false or inaccurate citations. Dealing with hallucinations is a fundamental challenge of LLMs and an ongoing research area, so it is important to be cognizant that LLMs may seem to give you confident, correct-sounding statements that are in fact incorrect.\n",
    "\n",
    "Note that if you intend to use LLMs for the creative use cases, hallucinating could actually be quite useful."
   ]
  },
  {
   "cell_type": "markdown",
   "metadata": {
    "id": "8NY5nAGeaJYS"
   },
   "source": [
    "Try the prompt like the one below repeatedly. We set the temperature to `1.0` so that it takes more risks in its choices. It's possible that it may provide an inaccurate, but confident answer."
   ]
  },
  {
   "cell_type": "code",
   "execution_count": 13,
   "metadata": {
    "id": "QALPjEILaM62",
    "tags": []
   },
   "outputs": [
    {
     "data": {
      "text/markdown": [
       "Today is Sunday, October 22nd, 2023.\n"
      ],
      "text/plain": [
       "<IPython.core.display.Markdown object>"
      ]
     },
     "metadata": {},
     "output_type": "display_data"
    }
   ],
   "source": [
    "generation_config = GenerateContentConfig(temperature=1.0)\n",
    "\n",
    "prompt = \"What day is it today?\"\n",
    "\n",
    "response = client.models.generate_content(model=MODEL_ID, contents=prompt)\n",
    "display(Markdown(response.text))"
   ]
  },
  {
   "cell_type": "markdown",
   "metadata": {
    "id": "BRkwzbgRbhKt"
   },
   "source": [
    "Since LLMs do not have access to real-time information without further integrations, you may have noticed it hallucinates what day it is today in some of the outputs."
   ]
  },
  {
   "cell_type": "markdown",
   "metadata": {},
   "source": [
    "## Reduce Output Variability"
   ]
  },
  {
   "cell_type": "markdown",
   "metadata": {
    "id": "3c811e310d02"
   },
   "source": [
    "### Using system instructions to guardrail the model from irrelevant responses\n",
    "\n",
    "How can we attempt to reduce the chances of irrelevant responses and hallucinations?\n",
    "\n",
    "One way is to provide the LLM with [system instructions](https://cloud.google.com/vertex-ai/generative-ai/docs/multimodal/send-chat-prompts-gemini#system-instructions).\n",
    "\n",
    "Let's see how system instructions works and how you can use them to reduce hallucinations or irrelevant questions for a travel chatbot.\n",
    "\n",
    "Suppose we ask a simple question about one of Italy's most famous tourist spots."
   ]
  },
  {
   "cell_type": "code",
   "execution_count": 14,
   "metadata": {
    "id": "rB6zJU76biFK",
    "tags": []
   },
   "outputs": [
    {
     "data": {
      "text/markdown": [
       "Milan offers a wealth of sightseeing opportunities! Here are a few of the most popular and highly-regarded places:\n",
       "\n",
       "*   **Duomo di Milano:** This magnificent cathedral is a must-see. Its stunning architecture, intricate details, and rooftop views are unforgettable.\n",
       "\n",
       "*   **Galleria Vittorio Emanuele II:** Right next to the Duomo, this stunning glass-covered arcade is filled with luxury shops, cafes, and restaurants. It's a beautiful place for a stroll and some window shopping.\n",
       "\n",
       "*   **Teatro alla Scala:** One of the most famous opera houses in the world.\n",
       "\n",
       "*   **Sforza Castle (Castello Sforzesco):** A large castle with museums and art collections.\n",
       "\n",
       "*   **Pinacoteca di Brera:** A major art gallery with an extensive collection of Italian art, including masterpieces by Raphael and Caravaggio.\n",
       "\n",
       "*   **Navigli District:** This area, with its canals, is known for its vibrant nightlife, restaurants, and artisan shops.\n",
       "\n",
       "To recommend the \"best\" place for you, I need a little more information. What are your interests? (e.g., art, architecture, history, shopping, nightlife)\n"
      ],
      "text/plain": [
       "<IPython.core.display.Markdown object>"
      ]
     },
     "metadata": {},
     "output_type": "display_data"
    }
   ],
   "source": [
    "generation_config = GenerateContentConfig(temperature=1.0)\n",
    "\n",
    "chat = client.chats.create(\n",
    "    model=MODEL_ID,\n",
    "    config=GenerateContentConfig(\n",
    "        system_instruction=[\n",
    "            \"Hello! You are an AI chatbot for a travel web site.\",\n",
    "            \"Your mission is to provide helpful queries for travelers.\",\n",
    "            \"Remember that before you answer a question, you must check to see if it complies with your mission.\",\n",
    "            \"If not, you can say, Sorry I can't answer that question.\",\n",
    "        ]\n",
    "    ),\n",
    ")\n",
    "\n",
    "prompt = \"What is the best place for sightseeing in Milan, Italy?\"\n",
    "\n",
    "response = chat.send_message(prompt)\n",
    "display(Markdown(response.text))"
   ]
  },
  {
   "cell_type": "markdown",
   "metadata": {
    "id": "WZa-Qcf9cF4A"
   },
   "source": [
    "Now let us pretend to be a user asks the chatbot a question that is unrelated to travel."
   ]
  },
  {
   "cell_type": "code",
   "execution_count": 15,
   "metadata": {
    "id": "AZKBIDr2cGnu",
    "tags": []
   },
   "outputs": [
    {
     "data": {
      "text/markdown": [
       "Milan offers a wealth of sightseeing opportunities! Here are a few of the most popular and highly-regarded places:\n",
       "\n",
       "*   **Duomo di Milano:** This magnificent cathedral is a must-see. Its stunning architecture, intricate details, and rooftop views are unforgettable.\n",
       "\n",
       "*   **Galleria Vittorio Emanuele II:** Right next to the Duomo, this stunning glass-covered arcade is filled with luxury shops, cafes, and restaurants. It's a beautiful place for a stroll and some window shopping.\n",
       "\n",
       "*   **Teatro alla Scala:** One of the most famous opera houses in the world.\n",
       "\n",
       "*   **Sforza Castle (Castello Sforzesco):** A large castle with museums and art collections.\n",
       "\n",
       "*   **Pinacoteca di Brera:** A major art gallery with an extensive collection of Italian art, including masterpieces by Raphael and Caravaggio.\n",
       "\n",
       "*   **Navigli District:** This area, with its canals, is known for its vibrant nightlife, restaurants, and artisan shops.\n",
       "\n",
       "To recommend the \"best\" place for you, I need a little more information. What are your interests? (e.g., art, architecture, history, shopping, nightlife)\n"
      ],
      "text/plain": [
       "<IPython.core.display.Markdown object>"
      ]
     },
     "metadata": {},
     "output_type": "display_data"
    }
   ],
   "source": [
    "prompt = \"What is the best place for sightseeing in Milan, Italy?\"\n",
    "\n",
    "response = chat.send_message(prompt)\n",
    "display(Markdown(response.text))"
   ]
  },
  {
   "cell_type": "markdown",
   "metadata": {
    "id": "JiUYIhwpctCy"
   },
   "source": [
    "You can see that this way, a guardrail in the prompt prevented the chatbot from veering off course."
   ]
  },
  {
   "cell_type": "markdown",
   "metadata": {
    "id": "ZuuDhA37cvmP"
   },
   "source": [
    "### Turn generative tasks into classification tasks to reduce output variability"
   ]
  },
  {
   "cell_type": "markdown",
   "metadata": {
    "id": "kUCUrsUzczmb"
   },
   "source": [
    "#### Generative tasks lead to higher output variability"
   ]
  },
  {
   "cell_type": "markdown",
   "metadata": {
    "id": "a1xASHAkc46n"
   },
   "source": [
    "The prompt below results in an open-ended response, useful for brainstorming, but response is highly variable."
   ]
  },
  {
   "cell_type": "code",
   "execution_count": 16,
   "metadata": {
    "id": "nPfXQWIacwRf",
    "tags": []
   },
   "outputs": [
    {
     "data": {
      "text/markdown": [
       "Okay, let's find a good programming activity to level up your skills! To give you the *best* recommendation, I need a little more information. Tell me:\n",
       "\n",
       "1.  **What languages do you already know (even a little bit)?** (e.g., Python, JavaScript, Java, C++, HTML/CSS, Scratch, etc.)\n",
       "2.  **What's your skill level in those languages?** (Beginner, Intermediate, Advanced - be honest!)  For example, \"I know basic Python syntax and can write simple programs,\" or \"I'm comfortable with Java object-oriented programming but struggle with data structures.\"\n",
       "3.  **What kind of projects are you interested in?** (Web development, game development, data analysis, mobile apps, robotics, problem-solving, AI, etc.)  If nothing excites you in particular, that's okay, too.\n",
       "4.  **How much time do you want to dedicate to this?** (A few hours a week?  More intensive?)\n",
       "5. **What do you want to achieve?** (A portfolio project, a better understanding of a specific concept, a sense of accomplishment?)\n",
       "\n",
       "In the meantime, here are a few general suggestions based on common scenarios:\n",
       "\n",
       "**If you're a beginner in Python:**\n",
       "\n",
       "*   **Activity:** **\"Guess the Number\" game.**\n",
       "    *   **Description:** The computer chooses a random number, and the user has to guess it. Provide feedback on each guess (\"Too high!\" or \"Too low!\").\n",
       "    *   **Why it's good:**  Introduces basic input/output, random number generation, `if` statements, and loops.\n",
       "    *   **Next Steps:**  Add difficulty levels (limiting the number of guesses), track the number of attempts, and maybe even let the user guess a word instead of a number.\n",
       "\n",
       "**If you know some basic HTML/CSS and want to learn JavaScript (beginner web development):**\n",
       "\n",
       "*   **Activity:** **Simple To-Do List.**\n",
       "    *   **Description:** Create a webpage where users can enter tasks, add them to a list, and mark them as complete.\n",
       "    *   **Why it's good:**  Introduces DOM manipulation (adding/removing elements), event handling (button clicks), and basic JavaScript logic.\n",
       "    *   **Next Steps:**  Add local storage (so the list persists when the page is refreshed), style it nicely with CSS, and maybe add features like editing or deleting tasks.\n",
       "\n",
       "**If you have some experience in Java or C++ and want a challenge:**\n",
       "\n",
       "*   **Activity:** **Implement a simple data structure (e.g., a linked list or stack).**\n",
       "    *   **Description:**  Write the code for a linked list or stack from scratch (don't use the built-in libraries). Implement the basic operations (add, remove, search, etc.).\n",
       "    *   **Why it's good:**  Forces you to understand the underlying principles of these data structures and how to manage memory (especially important in C++).\n",
       "    *   **Next Steps:** Implement more advanced data structures (queues, trees, graphs), and learn about their time and space complexities.\n",
       "\n",
       "**If you're comfortable with a language and want to build something more complex:**\n",
       "\n",
       "*   **Activity:** **Choose a small project based on your interests.** This could be a:\n",
       "    *   **Simple Web Application:** A blog, a recipe organizer, a personal website.\n",
       "    *   **Text-Based Game:**  Adventure game, a simple strategy game.\n",
       "    *   **Data Analysis Project:** Analyze a dataset you find online (sports stats, weather data, etc.)\n",
       "    *   **Small Mobile App:**  A simple calculator, a unit converter.\n",
       "    * **Discord Bot:** Write a bot that can perform some tasks in a Discord server.\n",
       "\n",
       "**General Tips for Any Project:**\n",
       "\n",
       "*   **Break it down:**  Divide the project into smaller, manageable tasks.\n",
       "*   **Plan:**  Sketch out the basic structure or functionality before you start coding.\n",
       "*   **Test frequently:**  Test your code as you go to catch errors early.\n",
       "*   **Use version control (Git):** Learn to use Git for tracking your changes and collaborating with others.\n",
       "*   **Don't be afraid to ask for help:**  Search online, ask classmates, or ask your teacher for help when you get stuck.\n",
       "\n",
       "Once you give me a bit more information about your current skills and interests, I can give you a more specific and tailored recommendation. Good luck!\n"
      ],
      "text/plain": [
       "<IPython.core.display.Markdown object>"
      ]
     },
     "metadata": {},
     "output_type": "display_data"
    }
   ],
   "source": [
    "prompt = \"I'm a high school student. Recommend me a programming activity to improve my skills.\"\n",
    "\n",
    "response = client.models.generate_content(model=MODEL_ID, contents=prompt)\n",
    "display(Markdown(response.text))"
   ]
  },
  {
   "cell_type": "markdown",
   "metadata": {
    "id": "iAmm9wPYc_1o"
   },
   "source": [
    "#### Classification tasks reduces output variability"
   ]
  },
  {
   "cell_type": "markdown",
   "metadata": {
    "id": "VvRpK_0GdCpf"
   },
   "source": [
    "The prompt below results in a choice and may be useful if you want the output to be easier to control."
   ]
  },
  {
   "cell_type": "code",
   "execution_count": 17,
   "metadata": {
    "id": "kYDKh0r2dAqo",
    "tags": []
   },
   "outputs": [
    {
     "data": {
      "text/markdown": [
       "Okay, for a high school student looking to learn a programming language, here's my recommendation, along with the reasoning:\n",
       "\n",
       "**Recommendation: a) Learn Python**\n",
       "\n",
       "**Why Python is the Best Choice (Especially for a Beginner):**\n",
       "\n",
       "*   **Beginner-Friendly Syntax:** Python is renowned for its clean, readable, and English-like syntax. This makes it much easier to grasp the fundamental programming concepts without getting bogged down in complex symbols or structures.  It's designed to be easy to read and understand.\n",
       "*   **Versatility:** Python is incredibly versatile. You can use it for:\n",
       "    *   **Web Development:**  Frameworks like Django and Flask make building websites relatively straightforward.\n",
       "    *   **Data Science:**  Python is *the* dominant language in data science, with libraries like Pandas, NumPy, and Scikit-learn. This is a huge growth area.\n",
       "    *   **Machine Learning/AI:**  TensorFlow and PyTorch, leading machine learning libraries, are primarily used with Python.\n",
       "    *   **Scripting/Automation:** Automate repetitive tasks on your computer or network.\n",
       "    *   **Game Development:** While not its primary strength, libraries like Pygame exist.\n",
       "    *   **Education:** It's commonly used in introductory programming courses.\n",
       "*   **Large and Supportive Community:** A massive online community means tons of tutorials, documentation, forums, and libraries.  If you get stuck, help is readily available.\n",
       "*   **Excellent Libraries and Frameworks:**  Python has a vast collection of pre-built libraries that handle complex tasks, letting you focus on the problem you're trying to solve, rather than writing everything from scratch.\n",
       "*   **Career Opportunities:** Python is in high demand in the job market. Learning Python can open doors to internships and future career paths.\n",
       "\n",
       "**Why JavaScript is a Good Choice (But Second to Python for Initial Learning):**\n",
       "\n",
       "*   **Essential for Web Development:** JavaScript is *the* language of the web browser. You need it for any kind of interactive website or web application.  It controls the behavior and dynamics of webpages.\n",
       "*   **Front-End and Back-End (with Node.js):**  JavaScript can be used for both the front-end (what the user sees in the browser) and the back-end (server-side logic) using Node.js.\n",
       "*   **Large Community:** Like Python, JavaScript has a huge and active community.\n",
       "*   **Steeper Learning Curve than Python (Initially):** While JavaScript is powerful, its asynchronous nature and some of its quirks can be confusing for beginners. The landscape of JavaScript frameworks (React, Angular, Vue.js) can also feel overwhelming at first.\n",
       "*   **Good to Learn After Python:** Once you have a good grasp of programming fundamentals with Python, learning JavaScript will be easier and more beneficial.\n",
       "\n",
       "**Why Fortran is Not Recommended (for a High School Student Starting Out):**\n",
       "\n",
       "*   **Specialized Language:** Fortran is primarily used in scientific and engineering computing, especially for numerical simulations, weather forecasting, and high-performance computing.\n",
       "*   **Older Language:** While still powerful in its niche, it's an older language with a less modern syntax compared to Python or JavaScript.\n",
       "*   **Smaller Community:** The Fortran community is smaller than Python or JavaScript, meaning fewer readily available resources and libraries.\n",
       "*   **Limited Applicability Outside of Scientific Computing:** It's unlikely to be useful for many common high school projects or introductory computer science courses.\n",
       "*   **Not as Many Job Opportunities (Outside of Specific Fields):** Job opportunities are much more limited compared to Python and JavaScript.\n",
       "\n",
       "**In summary:**\n",
       "\n",
       "Start with Python. It's the most accessible, versatile, and widely applicable language for a beginner.  Once you are comfortable with basic programming concepts, then you could learn JavaScript if you are interested in web development.  Fortran is too specialized for someone just starting out.\n",
       "\n",
       "Let me know if you have any other questions! Good luck with your programming journey!\n"
      ],
      "text/plain": [
       "<IPython.core.display.Markdown object>"
      ]
     },
     "metadata": {},
     "output_type": "display_data"
    }
   ],
   "source": [
    "prompt = \"\"\"I'm a high school student. Which of these activities do you suggest and why:\n",
    "a) learn Python\n",
    "b) learn JavaScript\n",
    "c) learn Fortran\n",
    "\"\"\"\n",
    "\n",
    "response = client.models.generate_content(model=MODEL_ID, contents=prompt)\n",
    "display(Markdown(response.text))"
   ]
  },
  {
   "cell_type": "markdown",
   "metadata": {
    "id": "iTd60b1GdIsx"
   },
   "source": [
    "### Improve response quality by including examples"
   ]
  },
  {
   "cell_type": "markdown",
   "metadata": {
    "id": "yJi44NejdJYE"
   },
   "source": [
    "Another way to improve response quality is to add examples in your prompt. The LLM learns in-context from the examples on how to respond. Typically, one to five examples (shots) are enough to improve the quality of responses. Including too many examples can cause the model to over-fit the data and reduce the quality of responses.\n",
    "\n",
    "Similar to classical model training, the quality and distribution of the examples is very important. Pick examples that are representative of the scenarios that you need the model to learn, and keep the distribution of the examples (e.g. number of examples per class in the case of classification) aligned with your actual distribution."
   ]
  },
  {
   "cell_type": "markdown",
   "metadata": {
    "id": "sMbLginWdOKs"
   },
   "source": [
    "#### Zero-shot prompt"
   ]
  },
  {
   "cell_type": "markdown",
   "metadata": {
    "id": "Crh2Loi2dQ0v"
   },
   "source": [
    "Below is an example of zero-shot prompting, where you don't provide any examples to the LLM within the prompt itself."
   ]
  },
  {
   "cell_type": "code",
   "execution_count": 18,
   "metadata": {
    "id": "-7myRc-SdTQ4",
    "tags": []
   },
   "outputs": [
    {
     "data": {
      "text/markdown": [
       "Sentiment: Positive\n"
      ],
      "text/plain": [
       "<IPython.core.display.Markdown object>"
      ]
     },
     "metadata": {},
     "output_type": "display_data"
    }
   ],
   "source": [
    "prompt = \"\"\"Decide whether a Tweet's sentiment is positive, neutral, or negative.\n",
    "\n",
    "Tweet: I loved the new YouTube video you made!\n",
    "Sentiment:\n",
    "\"\"\"\n",
    "\n",
    "response = client.models.generate_content(model=MODEL_ID, contents=prompt)\n",
    "display(Markdown(response.text))"
   ]
  },
  {
   "cell_type": "markdown",
   "metadata": {
    "id": "ucRtPn9SdL64"
   },
   "source": [
    "#### One-shot prompt"
   ]
  },
  {
   "cell_type": "markdown",
   "metadata": {
    "id": "rs0gQH2vdYBi"
   },
   "source": [
    "Below is an example of one-shot prompting, where you provide one example to the LLM within the prompt to give some guidance on what type of response you want."
   ]
  },
  {
   "cell_type": "code",
   "execution_count": 19,
   "metadata": {
    "id": "iEq-KxGYdaT5",
    "tags": []
   },
   "outputs": [
    {
     "data": {
      "text/markdown": [
       "Sentiment: negative\n"
      ],
      "text/plain": [
       "<IPython.core.display.Markdown object>"
      ]
     },
     "metadata": {},
     "output_type": "display_data"
    }
   ],
   "source": [
    "prompt = \"\"\"Decide whether a Tweet's sentiment is positive, neutral, or negative.\n",
    "\n",
    "Tweet: I loved the new YouTube video you made!\n",
    "Sentiment: positive\n",
    "\n",
    "Tweet: That was awful. Super boring 😠\n",
    "Sentiment:\n",
    "\"\"\"\n",
    "\n",
    "response = client.models.generate_content(model=MODEL_ID, contents=prompt)\n",
    "display(Markdown(response.text))"
   ]
  },
  {
   "cell_type": "markdown",
   "metadata": {
    "id": "JnKLjJzmdfL_"
   },
   "source": [
    "#### Few-shot prompt"
   ]
  },
  {
   "cell_type": "markdown",
   "metadata": {
    "id": "6Zv-9F5OdgI_"
   },
   "source": [
    "Below is an example of few-shot prompting, where you provide a few examples to the LLM within the prompt to give some guidance on what type of response you want."
   ]
  },
  {
   "cell_type": "code",
   "execution_count": 20,
   "metadata": {
    "id": "u37P9tG4dk9S",
    "tags": []
   },
   "outputs": [
    {
     "data": {
      "text/markdown": [
       "Sentiment: positive\n"
      ],
      "text/plain": [
       "<IPython.core.display.Markdown object>"
      ]
     },
     "metadata": {},
     "output_type": "display_data"
    }
   ],
   "source": [
    "prompt = \"\"\"Decide whether a Tweet's sentiment is positive, neutral, or negative.\n",
    "\n",
    "Tweet: I loved the new YouTube video you made!\n",
    "Sentiment: positive\n",
    "\n",
    "Tweet: That was awful. Super boring 😠\n",
    "Sentiment: negative\n",
    "\n",
    "Tweet: Something surprised me about this video - it was actually original. It was not the same old recycled stuff that I always see. Watch it - you will not regret it.\n",
    "Sentiment:\n",
    "\"\"\"\n",
    "\n",
    "response = client.models.generate_content(model=MODEL_ID, contents=prompt)\n",
    "display(Markdown(response.text))"
   ]
  },
  {
   "cell_type": "markdown",
   "metadata": {
    "id": "wDMD3xb2dvX6",
    "tags": []
   },
   "source": [
    "#### Choosing between zero-shot, one-shot, few-shot prompting methods"
   ]
  },
  {
   "cell_type": "markdown",
   "metadata": {
    "id": "s92W0YpNdxJp"
   },
   "source": [
    "Which prompt technique to use will solely depends on your goal. The zero-shot prompts are more open-ended and can give you creative answers, while one-shot and few-shot prompts teach the model how to behave so you can get more predictable answers that are consistent with the examples provided."
   ]
  }
 ],
 "metadata": {
  "colab": {
   "name": "intro_prompt_design.ipynb",
   "toc_visible": true
  },
  "environment": {
   "kernel": "conda-base-py",
   "name": "workbench-notebooks.m128",
   "type": "gcloud",
   "uri": "us-docker.pkg.dev/deeplearning-platform-release/gcr.io/workbench-notebooks:m128"
  },
  "kernelspec": {
   "display_name": "Python 3 (ipykernel) (Local)",
   "language": "python",
   "name": "conda-base-py"
  },
  "language_info": {
   "codemirror_mode": {
    "name": "ipython",
    "version": 3
   },
   "file_extension": ".py",
   "mimetype": "text/x-python",
   "name": "python",
   "nbconvert_exporter": "python",
   "pygments_lexer": "ipython3",
   "version": "3.10.16"
  }
 },
 "nbformat": 4,
 "nbformat_minor": 4
}
